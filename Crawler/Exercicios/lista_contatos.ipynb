{
 "cells": [
  {
   "cell_type": "code",
   "execution_count": null,
   "metadata": {
    "collapsed": true
   },
   "outputs": [],
   "source": [
    "def criar_contato(*args):\n",
    "    print(\"Digite as informações do contato\")\n",
    "    info = {}\n",
    "    for arg in args:\n",
    "        info[arg] = input('Digite %s: ' % arg)\n",
    "    return info"
   ]
  },
  {
   "cell_type": "code",
   "execution_count": null,
   "metadata": {
    "collapsed": true
   },
   "outputs": [],
   "source": [
    "def salvar_contato(**kwargs):\n",
    "    arquivo = open('contatos.csv', 'a')\n",
    "    arquivo.write(','.join(kwargs.values()))\n",
    "    arquivo.write('\\n')\n",
    "    arquivo.flush()\n",
    "    arquivo.close()"
   ]
  },
  {
   "cell_type": "code",
   "execution_count": null,
   "metadata": {
    "collapsed": false
   },
   "outputs": [],
   "source": [
    "quantidade = input(\"Quantos contatos deseja cadastrar? \")\n",
    "quantidade = int(quantidade)\n",
    "campos = input(\"Digite os campos separados por vírgula: \")\n",
    "campos = campos.split(',')\n",
    "for i in range(quantidade):\n",
    "    contato = criar_contato(*campos)\n",
    "    salvar_contato(**contato)"
   ]
  }
 ],
 "metadata": {
  "kernelspec": {
   "display_name": "Python 3",
   "language": "python",
   "name": "python3"
  },
  "language_info": {
   "codemirror_mode": {
    "name": "ipython",
    "version": 3
   },
   "file_extension": ".py",
   "mimetype": "text/x-python",
   "name": "python",
   "nbconvert_exporter": "python",
   "pygments_lexer": "ipython3",
   "version": "3.8.10"
  }
 },
 "nbformat": 4,
 "nbformat_minor": 1
}
