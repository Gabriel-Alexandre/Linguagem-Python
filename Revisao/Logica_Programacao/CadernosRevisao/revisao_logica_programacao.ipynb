{
 "cells": [
  {
   "cell_type": "markdown",
   "id": "ea28a868",
   "metadata": {},
   "source": [
    "# Revisão python"
   ]
  },
  {
   "cell_type": "markdown",
   "id": "8cea7cd6",
   "metadata": {},
   "source": [
    "* Meu objetivo de revisão vai ser revisar os pontos da lógica de programação no qual preciso praticar um pouco mais para que eu possa ter uma melhor fluidez no uso da linguagem. Então, usar esse notebook (caderno) para revisar bem a lógica de programação da linguagem e em outro momento quando for proprício, criar um notebook para estudar e praticar lógica de programação, além disso, quando for estudar melhor sobre cada módulo como pandas, selenium e beatifulsoup por exemplo, criar um notebook para cada módulo específico, da mesma maneira, quando for desenvolver um projeto ou mine projeto envolvendo cada módulo e integração entre módulos, criar um notebook diferente para cada um. Dessa maneira, vou conseguir realizar os meus estudos sobre python de uma maneira organizada e sólida."
   ]
  },
  {
   "cell_type": "markdown",
   "id": "ea72cf00",
   "metadata": {},
   "source": [
    "## Lógica de programação"
   ]
  },
  {
   "cell_type": "markdown",
   "id": "54e421a6",
   "metadata": {},
   "source": [
    "* Conheço bem sobre a lógica de programação em python, desde os tipos primitivos de dados, no qual é importante citar que python é uma linguagem fracamente tipada, ou seja, não usa variáveis com tipos específicos, até o uso e manipulação das variáveis compostas como tuplas, listas e dicionários. Sobre as entradas e saídas de dados, estruturas de controle e estruturas de repeditação também tenho um bom domínio da sintaxe. Em relação aos principais pontos com o uso e manipulação de tuplas, listas, strings, dicionários, arquivos, e uso de módulos como pandas e selenium por exemplo, eu me sinto confortável em utilizar pois em relação ao uso de todas essas estruturas tenho bastente prática em outras linguagens, porém em python acredito que, apesar de saber bem a sintaxe e como posso utiliza-la ao meu favor, acredito que ainda tem pontos no qual com uma boa prática da sitaxe da linguagem podem ser tratádos com mais fluidez. Então posso considerar, que em relação aos principais pontos de lógica de programação estou em um excelente nível de fluidez, porém em relação a esses outros pontos é necessário ter mais prática."
   ]
  },
  {
   "cell_type": "markdown",
   "id": "66d3f2f4",
   "metadata": {},
   "source": [
    "## Programação Orientada a Objetos"
   ]
  },
  {
   "cell_type": "markdown",
   "id": "24d73658",
   "metadata": {},
   "source": [
    "* Conheço muito bem sobre o paradigma de programação em C++ e tenho uma boa noção do seu funcionamento em c, porém em python ainda não conheço a sitanxe nem as específicidades de implementação na linguagem, porém como tenho um conhecimento muito sólido sobre o paradigma de programação acredito que consigo aprender esse assunto rápidamente se for necessário."
   ]
  },
  {
   "cell_type": "markdown",
   "id": "f282d51e",
   "metadata": {},
   "source": [
    "## Estruturas de dados"
   ]
  },
  {
   "cell_type": "markdown",
   "id": "df3c5956",
   "metadata": {},
   "source": [
    "* Conheço muito bem sua implementação na linguagem c, porém nunca parei para estudar como funciona em python, porém uso o mesmo raciocinio que utilizei com POO, apesar de não conhecer acredito que consigo aprender bem e rápido por causa do meu conhecimento sólido sobre o assunto. Vale ressaltar que meu conhecimento é a nível de implementação dos TADs, não apenas de uso."
   ]
  },
  {
   "cell_type": "markdown",
   "id": "a083d753",
   "metadata": {},
   "source": [
    "## Padrões"
   ]
  },
  {
   "cell_type": "code",
   "execution_count": null,
   "id": "3ee53e96",
   "metadata": {},
   "outputs": [],
   "source": [
    "### Título 1\n",
    "## Título 2\n",
    "# Comentário"
   ]
  },
  {
   "cell_type": "markdown",
   "id": "f9609eaf",
   "metadata": {},
   "source": [
    "## Manipulação e uso de Strings"
   ]
  },
  {
   "cell_type": "code",
   "execution_count": null,
   "id": "c639e17d",
   "metadata": {},
   "outputs": [],
   "source": [
    "### Fatiamento\n",
    "\n",
    "test = \"Gabriel Alexandre Carvalho\"\n",
    "\n",
    "print(\"*****Fatiamento*****\\n\")\n",
    "print(test[:8])\n",
    "print(test[8:])\n",
    "print(test[::2])\n",
    "print()\n",
    "\n",
    "### Interação com operadores arítiméticos\n",
    "\n",
    "print(\"*****Interação com operadores arítiméticos*****\\n\")\n",
    "print(test[:8] + test[18:])\n",
    "print(5 * '-' + test + 5 * '-')\n",
    "print()\n",
    "\n",
    "### Remoção de espaços no inicio e fim\n",
    "\n",
    "test = \"   Batatinha frita 123  \"\n",
    "\n",
    "print(\"*****Remoção de espaços no inicio e fim*****\\n\")\n",
    "print(test)\n",
    "print(len(test))\n",
    "print(test.strip())\n",
    "print(len(test.strip()))\n",
    "print(test.rstrip())\n",
    "print(len(test.rstrip()))\n",
    "print(test.lstrip())\n",
    "print(len(test.lstrip()))\n",
    "print()\n",
    "\n",
    "### Formas de substituição\n",
    "\n",
    "test = \"Batatinha frita 123\" \n",
    "\n",
    "print(\"*****Formas de substituição*****\\n\")\n",
    "print(test.replace(\"frita\", \"alexandre\")) \n",
    "# Não se pode alterar os caracteres diretamento pelo indice como em C\n",
    "# test[0] = \"b\" -> Não posso realizar essa operação, preciso recorrer a outros métodos\n",
    "print()\n",
    "\n",
    "### Utilizando principais métodos\n",
    "\n",
    "print(\"*****Utilizando principais métodos*****\\n\")\n",
    "print(test.split())\n",
    "print(test.upper())\n",
    "print(test.lower())\n",
    "print(test.title())\n",
    "print(test.capitalize())\n",
    "print(test.find('frita'))\n",
    "print(test.count('a'))"
   ]
  },
  {
   "cell_type": "markdown",
   "id": "48622d03",
   "metadata": {},
   "source": [
    "## Tuplas"
   ]
  },
  {
   "cell_type": "code",
   "execution_count": null,
   "id": "b37ceea0",
   "metadata": {},
   "outputs": [],
   "source": [
    "### Tuplas (Listas imutáveis)\n",
    "\n",
    "print(\"**********Tuplas**********\\n\")\n",
    "\n",
    "# tupla[4] = 5 -> Operação inválida (tuplas não podem ser alteradas)\n",
    "\n",
    "## Formas de acesso \n",
    "\n",
    "print(\"*****Formas de acesso*****\\n\")\n",
    "tupla = (1, 2, 3, 4, 4)\n",
    "print(tupla, tupla[1], tupla[3])\n",
    "print()\n",
    "\n",
    "## Utilizando principais métodos \n",
    "\n",
    "print(\"*****Utilizando principais métodos*****\\n\")\n",
    "print(len(tupla))\n",
    "print(tupla.count(4))\n",
    "print()\n",
    "\n",
    "## Atribuição em tupla (No momento da iniciação)\n",
    "\n",
    "print(\"*****Atribuição em tupla*****\\n\")\n",
    "a, b = 10, 30\n",
    "print(a, b)\n",
    "a, b = b, a\n",
    "print(a, b)\n",
    "print()\n",
    "\n",
    "## Tupla como retorno\n",
    "\n",
    "print(\"*****Tupla como retorno*****\\n\")\n",
    "\n",
    "def troca(x, y):\n",
    "    return y, x\n",
    "\n",
    "x, y = 100, 200\n",
    "print(x, y)\n",
    "x, y = troca(x, y)\n",
    "print(x, y)\n",
    "print()"
   ]
  },
  {
   "cell_type": "markdown",
   "id": "c523bf51",
   "metadata": {},
   "source": [
    "## Manipulação e uso de Listas"
   ]
  },
  {
   "cell_type": "code",
   "execution_count": null,
   "id": "60eb1565",
   "metadata": {},
   "outputs": [],
   "source": [
    "### Listas\n",
    "\n",
    "print(\"**********Listas**********\\n\")\n",
    "\n",
    "# Não precisa ser de apenas um tipo\n",
    "# Não tem limite de elementos (Pois, usa alocação dinâmica internamente)\n",
    "# Posso utiliza-la como a estrutura de dados do tipo pilha\n",
    "# Também posso manipula-la para funcionar como uma pilha, porém o mais eficiente seria usar \"collections.deque\"\n",
    "lista = ['Gabriel', 19, 'Emanuel', 21]\n",
    "\n",
    "## Principais operações\n",
    "\n",
    "# Inserir no final\n",
    "print(\"*****Inserir no final*****\\n\")\n",
    "lista.append('Miguel')\n",
    "lista.append(3)\n",
    "print(lista)\n",
    "\n",
    "# Inserir em um indice determinado\n",
    "print(\"\\n*****Inserir em um indice determinado*****\\n\")\n",
    "lista.insert(4, 'Alex')\n",
    "lista.insert(5, 41)\n",
    "print(lista)\n",
    "\n",
    "# Remover no final\n",
    "print(\"\\n*****Remover no final*****\\n\")\n",
    "lista.pop()\n",
    "lista.pop()\n",
    "print(lista)\n",
    "\n",
    "# Remover em um indice determinado\n",
    "print(\"\\n*****Remover em um indice determinado*****\\n\")\n",
    "lista.pop(5) #ou del lista[5]\n",
    "print(lista)\n",
    "\n",
    "# Remover a partir de um valor\n",
    "print(\"\\n*****Remover a partir de um valor*****\\n\")\n",
    "if 'Alex' in lista:\n",
    "    lista.remove('Alex') # Se tiver mais de um elemento 'Alex' ele remove apenas a primeira ocorrência\n",
    "    print(lista)\n",
    "    \n",
    "# Remover por fatiamento\n",
    "print(\"\\n*****Remover por fatiamento*****\\n\")\n",
    "lista.append(2)\n",
    "lista.append(3)\n",
    "lista.append(4)\n",
    "print(lista)\n",
    "\n",
    "del lista[4:]\n",
    "print(lista)\n",
    "\n",
    "# Alterar em um indice indicado\n",
    "print(\"\\n*****Alterar em um indice indicado*****\\n\")\n",
    "lista[0] = \"Gabriel Alexandre\"\n",
    "lista[1] = 20\n",
    "print(lista)\n",
    "\n",
    "## Criando listas a partir de ranges\n",
    "print(\"\\n*****Criando listas a partir de ranges*****\\n\")\n",
    "numeros = list(range(0, 20, 2))\n",
    "print(numeros)\n",
    "\n",
    "## Copiar lista\n",
    "print(\"\\n*****Copiar lista*****\\n\")\n",
    "aux = list()\n",
    "aux.append(lista[:]) # Inserindo copia\n",
    "# aux.append(lista) # Inserindo lista\n",
    "print(aux)\n",
    "\n",
    "## Matriz\n",
    "print(\"\\n*****Matriz*****\\n\")\n",
    "coluna1 = [1, 2, 3]\n",
    "coluna2 = [1, 2, 3]\n",
    "linha = [coluna1, coluna2]\n",
    "# ou liha = [[1, 2, 3], [1, 2, 3]]\n",
    "print(linha)\n",
    "print(linha[1])\n",
    "print(linha[0][0])\n",
    "print(linha[0][1])\n",
    "print(linha[1][2])\n",
    "\n",
    "## Utilizando principais métodos\n",
    "print(\"\\n*****Utilizando principais métodos*****\\n\")\n",
    "lista = [9,3,2,1,4,5,3,3,2,1]\n",
    "print(lista)\n",
    "\n",
    "# Ordenar lista (de forma crescente ou decrescente)\n",
    "lista.sort(reverse=True) # ou lista.reverse()\n",
    "print(lista)\n",
    "\n",
    "# Tamanho da lista\n",
    "print(len(lista))\n",
    "\n",
    "# Limpando lista\n",
    "lista.clear()\n",
    "print(lista)\n",
    "\n",
    "lista = [9,3,2,1,4,5,3,3,2,1]\n",
    "print(lista)\n",
    "\n",
    "# Contando um elemento X\n",
    "\n",
    "print(lista.count(3))\n",
    "\n",
    "## Compressão de lista (Apenas as simples para ter informações sobre compressão em matriz verificar o link abaixo)\n",
    "# Link: https://docs.python.org/pt-br/3/tutorial/datastructures.html\n",
    "\n",
    "# Equivalente ao map de javascript\n",
    "\n",
    "print(\"\\n*****Compressão de listas*****\\n\")\n",
    "\n",
    "quadrados = list(map(lambda x: x ** 2, range(10)))\n",
    "print(quadrados)\n",
    "# ou\n",
    "quadrados = [x**2 for x in range(0,10)]\n",
    "print(quadrados)\n",
    "\n",
    "# outro exemplo\n",
    "\n",
    "#       resultado       (Estrutura de repetição)          condição\n",
    "pares = [[x, y] for x in range(0,3) for y in range(0,3) if(x != y)]\n",
    "print(pares)\n",
    "# Agora é só aprender a usar melhor mesmo"
   ]
  },
  {
   "cell_type": "markdown",
   "id": "75a33f1a",
   "metadata": {},
   "source": [
    "## Manipulação e uso de Dicionários e Métodos"
   ]
  },
  {
   "cell_type": "markdown",
   "id": "392eecca",
   "metadata": {},
   "source": [
    "* Como já tenho um bom conhecimento de como funciona o ideal é ter apenas uma lista de referência (Como a lista de referência a baixo) para que quando eu tiver dúvida de como realizar alguma operação eu possa consultar um documento confiável de maneira fácil e rápida."
   ]
  },
  {
   "cell_type": "markdown",
   "id": "247002ef",
   "metadata": {},
   "source": [
    "## Lista de referências"
   ]
  },
  {
   "cell_type": "markdown",
   "id": "cd8fc831",
   "metadata": {},
   "source": [
    "### Documentação:\n",
    "\n",
    "* Strings:\n",
    "    - https://algoritmosempython.com.br/cursos/programacao-python/strings/\n",
    "* Tuplas:\n",
    "    - https://blog.betrybe.com/tecnologia/tuplas-em-python/#:~:text=Tupla%20%C3%A9%20um%20tipo%20de,alterar%20ou%20remover%20seus%20elementos.\n",
    "* Listas:\n",
    "    - https://pythonacademy.com.br/blog/manipulacao-de-listas-no-python\n",
    "* Dicionários: \n",
    "    - https://pythonacademy.com.br/blog/dicts-ou-dicionarios-no-python\n",
    "* Métodos:\n",
    "    - http://devfuria.com.br/python/functions/\n",
    "* Documentação oficial:\n",
    "    - https://docs.python.org/pt-br/3/tutorial/\n",
    "\n",
    "### Vídeos:\n",
    "\n",
    "* Canais recomendados:\n",
    "    - Curso em vídeo"
   ]
  },
  {
   "cell_type": "markdown",
   "id": "1296ebaa",
   "metadata": {},
   "source": [
    "### Próximos estudos:\n",
    "\n",
    "Como terminei minha revisão da base fundamental de python, meu objetivo agora é estudar melhor os tópicos abaixo para me aprofundar ainda mais na linguagem. Todas anotações e todas as recomendação não estão aqui nesse documento, mas o essencial e as dicas de recomendação estão, então, se fornecessário buscar algo além da base que está anotada aqui, se possível, guarda o link da documentação utilizada para estudo.\n",
    "\n",
    "* **Módulos:**\n",
    "    * Pandas\n",
    "    * Matplotlib\n",
    "    * Numpy\n",
    "    * Beautifullsoup\n",
    "    * Selenium\n",
    "* **Programação orientada a objetos**\n",
    "* **Estrutura de dados**"
   ]
  }
 ],
 "metadata": {
  "kernelspec": {
   "display_name": "Python 3 (ipykernel)",
   "language": "python",
   "name": "python3"
  },
  "language_info": {
   "codemirror_mode": {
    "name": "ipython",
    "version": 3
   },
   "file_extension": ".py",
   "mimetype": "text/x-python",
   "name": "python",
   "nbconvert_exporter": "python",
   "pygments_lexer": "ipython3",
   "version": "3.8.10"
  }
 },
 "nbformat": 4,
 "nbformat_minor": 5
}
